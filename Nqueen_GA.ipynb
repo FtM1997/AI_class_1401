{
  "nbformat": 4,
  "nbformat_minor": 0,
  "metadata": {
    "colab": {
      "provenance": [],
      "toc_visible": true
    },
    "kernelspec": {
      "name": "python3",
      "display_name": "Python 3"
    },
    "language_info": {
      "name": "python"
    }
  },
  "cells": [
    {
      "cell_type": "code",
      "source": [
        "import random as rnd\n",
        "import numpy as np"
      ],
      "metadata": {
        "id": "cfvELpSCAwdl"
      },
      "execution_count": null,
      "outputs": []
    },
    {
      "cell_type": "code",
      "source": [
        "p_s = 200\n",
        "n = 4\n",
        "m_r = 0.8"
      ],
      "metadata": {
        "id": "vjp5nV-K_-kT"
      },
      "execution_count": null,
      "outputs": []
    },
    {
      "cell_type": "code",
      "execution_count": null,
      "metadata": {
        "id": "MAUtcHOW67gO"
      },
      "outputs": [],
      "source": [
        "def init_population(population_size, n):\n",
        "  population_list = []\n",
        "  for i in range(population_size):\n",
        "    new_member = []\n",
        "    for j in range(n):\n",
        "      new_member.append(rnd.randint(1,n))\n",
        "    new_member.append(0)\n",
        "    population_list.append(new_member)\n",
        "  return population_list"
      ]
    },
    {
      "cell_type": "code",
      "source": [
        "def cross_over(population_list, n):\n",
        "  for i in range(0, len(population_list), 2):\n",
        "      child1 = population_list[i][:int(n/2)] + population_list[i+1][int(n/2):n] + [0]\n",
        "      child2 = population_list[i+1][:int(n/2)] + population_list[i][int(n/2):n] + [0]\n",
        "      population_list.append(child1)\n",
        "      population_list.append(child2)\n",
        "  return population_list"
      ],
      "metadata": {
        "id": "W1e4Kq3e4kHd"
      },
      "execution_count": null,
      "outputs": []
    },
    {
      "cell_type": "code",
      "source": [
        "population = init_population(p_s, n)"
      ],
      "metadata": {
        "id": "m571-m4GwJn8"
      },
      "execution_count": null,
      "outputs": []
    },
    {
      "cell_type": "code",
      "source": [
        "print(population[0])\n",
        "print(population[1])"
      ],
      "metadata": {
        "colab": {
          "base_uri": "https://localhost:8080/"
        },
        "id": "mhFYiIZrw0BT",
        "outputId": "56854d8b-4479-48df-89f9-5d20cd1347a4"
      },
      "execution_count": null,
      "outputs": [
        {
          "output_type": "stream",
          "name": "stdout",
          "text": [
            "[2, 2, 3, 2, 0]\n",
            "[2, 1, 2, 4, 0]\n"
          ]
        }
      ]
    },
    {
      "cell_type": "code",
      "source": [
        "population = cross_over(population, n)"
      ],
      "metadata": {
        "id": "9O5rxhwARL6l"
      },
      "execution_count": null,
      "outputs": []
    },
    {
      "cell_type": "code",
      "source": [
        "population[200]"
      ],
      "metadata": {
        "colab": {
          "base_uri": "https://localhost:8080/"
        },
        "id": "rU1E_z7iRTAd",
        "outputId": "ddf5b7c1-5984-4e56-9a75-a4a5bfa74f86"
      },
      "execution_count": null,
      "outputs": [
        {
          "output_type": "execute_result",
          "data": {
            "text/plain": [
              "[2, 2, 2, 4, 0]"
            ]
          },
          "metadata": {},
          "execution_count": 43
        }
      ]
    },
    {
      "cell_type": "code",
      "source": [
        "population[201]"
      ],
      "metadata": {
        "colab": {
          "base_uri": "https://localhost:8080/"
        },
        "id": "BAsRvW4RRbkF",
        "outputId": "e47092a7-8dfd-42c4-fe8f-c2585f2e0b0b"
      },
      "execution_count": null,
      "outputs": [
        {
          "output_type": "execute_result",
          "data": {
            "text/plain": [
              "[2, 1, 1, 3, 0]"
            ]
          },
          "metadata": {},
          "execution_count": 29
        }
      ]
    },
    {
      "cell_type": "code",
      "source": [
        "def mutation(population_list, mutation_rate, n):\n",
        "  for i in range(200,200+int(200*mutation_rate)):\n",
        "    new_ch = rnd.randint(0,n-1)\n",
        "    new_value = rnd.randint(1,n)\n",
        "    population_list[i][new_ch] = new_value\n",
        "  return population_list"
      ],
      "metadata": {
        "id": "UungnafX5TfO"
      },
      "execution_count": null,
      "outputs": []
    },
    {
      "cell_type": "code",
      "source": [
        "population = init_population(p_s,n)"
      ],
      "metadata": {
        "id": "ocKgIxRQKA10"
      },
      "execution_count": null,
      "outputs": []
    },
    {
      "cell_type": "code",
      "source": [
        "np.shape(population)"
      ],
      "metadata": {
        "colab": {
          "base_uri": "https://localhost:8080/"
        },
        "id": "J-wytFvXk9M1",
        "outputId": "206d15b9-55fc-4a63-961a-4f9bc47992ce"
      },
      "execution_count": null,
      "outputs": [
        {
          "output_type": "execute_result",
          "data": {
            "text/plain": [
              "(200, 5)"
            ]
          },
          "metadata": {},
          "execution_count": 32
        }
      ]
    },
    {
      "cell_type": "code",
      "source": [
        "population = cross_over(population,n)"
      ],
      "metadata": {
        "id": "JQBjAF9IMC_e"
      },
      "execution_count": null,
      "outputs": []
    },
    {
      "cell_type": "code",
      "source": [
        "np.shape(population)"
      ],
      "metadata": {
        "colab": {
          "base_uri": "https://localhost:8080/"
        },
        "id": "xgkXhEtFlDTz",
        "outputId": "8f7c2490-0911-4bba-dd2b-c934bdc31710"
      },
      "execution_count": null,
      "outputs": [
        {
          "output_type": "execute_result",
          "data": {
            "text/plain": [
              "(400, 5)"
            ]
          },
          "metadata": {},
          "execution_count": 34
        }
      ]
    },
    {
      "cell_type": "code",
      "source": [
        "for i in range(200,400):\n",
        "  print(population[i])"
      ],
      "metadata": {
        "id": "VTH-dvnzlMlf",
        "colab": {
          "base_uri": "https://localhost:8080/"
        },
        "outputId": "6e6cbed1-0de6-4c15-da97-f656ed6c24a1"
      },
      "execution_count": null,
      "outputs": [
        {
          "output_type": "stream",
          "name": "stdout",
          "text": [
            "[4, 4, 1, 4, 0]\n",
            "[1, 3, 1, 1, 0]\n",
            "[3, 3, 3, 1, 0]\n",
            "[3, 2, 1, 4, 0]\n",
            "[2, 2, 4, 3, 0]\n",
            "[1, 2, 3, 2, 0]\n",
            "[1, 2, 2, 4, 0]\n",
            "[4, 2, 2, 2, 0]\n",
            "[2, 1, 4, 4, 0]\n",
            "[4, 1, 1, 3, 0]\n",
            "[2, 1, 3, 3, 0]\n",
            "[2, 4, 1, 1, 0]\n",
            "[3, 2, 3, 1, 0]\n",
            "[1, 2, 3, 4, 0]\n",
            "[3, 3, 1, 2, 0]\n",
            "[1, 3, 2, 1, 0]\n",
            "[1, 3, 1, 4, 0]\n",
            "[2, 1, 4, 4, 0]\n",
            "[4, 1, 1, 2, 0]\n",
            "[1, 2, 2, 2, 0]\n",
            "[2, 3, 2, 2, 0]\n",
            "[4, 2, 2, 1, 0]\n",
            "[1, 1, 1, 4, 0]\n",
            "[3, 3, 4, 1, 0]\n",
            "[1, 3, 3, 2, 0]\n",
            "[4, 4, 1, 3, 0]\n",
            "[3, 2, 3, 2, 0]\n",
            "[4, 1, 1, 1, 0]\n",
            "[3, 4, 3, 3, 0]\n",
            "[2, 1, 1, 1, 0]\n",
            "[3, 3, 2, 3, 0]\n",
            "[2, 2, 1, 3, 0]\n",
            "[4, 3, 1, 1, 0]\n",
            "[3, 3, 4, 3, 0]\n",
            "[2, 1, 4, 2, 0]\n",
            "[1, 1, 1, 2, 0]\n",
            "[2, 1, 3, 4, 0]\n",
            "[3, 1, 3, 2, 0]\n",
            "[2, 3, 1, 3, 0]\n",
            "[3, 1, 3, 2, 0]\n",
            "[4, 2, 4, 2, 0]\n",
            "[2, 1, 1, 2, 0]\n",
            "[3, 3, 1, 3, 0]\n",
            "[1, 3, 2, 2, 0]\n",
            "[2, 1, 1, 2, 0]\n",
            "[2, 3, 2, 2, 0]\n",
            "[2, 3, 3, 2, 0]\n",
            "[2, 4, 2, 2, 0]\n",
            "[1, 2, 4, 1, 0]\n",
            "[2, 3, 2, 1, 0]\n",
            "[4, 1, 1, 2, 0]\n",
            "[2, 3, 4, 2, 0]\n",
            "[3, 1, 3, 4, 0]\n",
            "[2, 3, 1, 1, 0]\n",
            "[1, 2, 3, 3, 0]\n",
            "[2, 3, 4, 3, 0]\n",
            "[1, 3, 4, 4, 0]\n",
            "[3, 3, 3, 4, 0]\n",
            "[4, 4, 1, 3, 0]\n",
            "[1, 4, 4, 3, 0]\n",
            "[2, 3, 2, 3, 0]\n",
            "[1, 1, 3, 2, 0]\n",
            "[3, 3, 1, 4, 0]\n",
            "[1, 3, 3, 1, 0]\n",
            "[2, 2, 3, 2, 0]\n",
            "[3, 3, 1, 3, 0]\n",
            "[1, 1, 3, 2, 0]\n",
            "[2, 2, 2, 1, 0]\n",
            "[1, 1, 4, 1, 0]\n",
            "[1, 1, 4, 4, 0]\n",
            "[2, 3, 2, 2, 0]\n",
            "[2, 4, 3, 2, 0]\n",
            "[1, 1, 4, 3, 0]\n",
            "[1, 4, 3, 1, 0]\n",
            "[1, 3, 4, 3, 0]\n",
            "[2, 1, 3, 4, 0]\n",
            "[1, 4, 3, 4, 0]\n",
            "[2, 1, 4, 4, 0]\n",
            "[4, 1, 3, 2, 0]\n",
            "[4, 4, 2, 3, 0]\n",
            "[3, 4, 3, 3, 0]\n",
            "[1, 1, 2, 4, 0]\n",
            "[1, 4, 4, 2, 0]\n",
            "[1, 4, 2, 1, 0]\n",
            "[2, 4, 3, 3, 0]\n",
            "[4, 1, 1, 2, 0]\n",
            "[4, 1, 1, 2, 0]\n",
            "[3, 1, 2, 1, 0]\n",
            "[2, 4, 4, 2, 0]\n",
            "[4, 4, 3, 1, 0]\n",
            "[2, 2, 2, 1, 0]\n",
            "[2, 3, 1, 4, 0]\n",
            "[4, 4, 4, 2, 0]\n",
            "[2, 4, 2, 2, 0]\n",
            "[1, 4, 3, 4, 0]\n",
            "[2, 3, 2, 1, 0]\n",
            "[4, 3, 4, 3, 0]\n",
            "[3, 1, 1, 1, 0]\n",
            "[4, 1, 1, 4, 0]\n",
            "[4, 3, 3, 4, 0]\n",
            "[1, 3, 1, 2, 0]\n",
            "[1, 4, 4, 4, 0]\n",
            "[4, 4, 2, 3, 0]\n",
            "[3, 2, 1, 3, 0]\n",
            "[1, 4, 1, 3, 0]\n",
            "[4, 1, 1, 4, 0]\n",
            "[3, 1, 3, 4, 0]\n",
            "[3, 1, 3, 4, 0]\n",
            "[2, 3, 3, 4, 0]\n",
            "[2, 1, 2, 3, 0]\n",
            "[1, 4, 3, 1, 0]\n",
            "[4, 4, 1, 4, 0]\n",
            "[3, 3, 2, 1, 0]\n",
            "[1, 3, 1, 1, 0]\n",
            "[2, 1, 3, 3, 0]\n",
            "[4, 2, 4, 3, 0]\n",
            "[1, 2, 2, 4, 0]\n",
            "[1, 1, 3, 4, 0]\n",
            "[2, 4, 1, 4, 0]\n",
            "[1, 2, 4, 4, 0]\n",
            "[3, 4, 2, 2, 0]\n",
            "[1, 2, 4, 1, 0]\n",
            "[1, 4, 4, 2, 0]\n",
            "[1, 1, 4, 2, 0]\n",
            "[3, 4, 2, 4, 0]\n",
            "[2, 4, 1, 4, 0]\n",
            "[4, 1, 4, 2, 0]\n",
            "[1, 1, 4, 1, 0]\n",
            "[1, 2, 3, 4, 0]\n",
            "[1, 1, 2, 4, 0]\n",
            "[4, 1, 4, 2, 0]\n",
            "[1, 3, 1, 1, 0]\n",
            "[3, 1, 2, 4, 0]\n",
            "[4, 4, 1, 2, 0]\n",
            "[2, 4, 3, 3, 0]\n",
            "[2, 3, 3, 4, 0]\n",
            "[1, 3, 1, 3, 0]\n",
            "[4, 3, 4, 3, 0]\n",
            "[3, 1, 3, 2, 0]\n",
            "[2, 1, 2, 1, 0]\n",
            "[1, 2, 2, 2, 0]\n",
            "[3, 4, 1, 1, 0]\n",
            "[1, 1, 1, 4, 0]\n",
            "[3, 2, 2, 3, 0]\n",
            "[2, 2, 3, 1, 0]\n",
            "[2, 1, 3, 2, 0]\n",
            "[2, 2, 3, 3, 0]\n",
            "[1, 3, 3, 4, 0]\n",
            "[2, 1, 1, 1, 0]\n",
            "[1, 1, 3, 1, 0]\n",
            "[2, 1, 4, 1, 0]\n",
            "[4, 3, 1, 3, 0]\n",
            "[3, 3, 4, 1, 0]\n",
            "[4, 1, 2, 2, 0]\n",
            "[1, 2, 3, 1, 0]\n",
            "[3, 1, 4, 1, 0]\n",
            "[3, 1, 1, 2, 0]\n",
            "[3, 2, 1, 1, 0]\n",
            "[3, 3, 1, 4, 0]\n",
            "[1, 2, 4, 1, 0]\n",
            "[4, 3, 3, 4, 0]\n",
            "[4, 2, 1, 2, 0]\n",
            "[3, 1, 3, 1, 0]\n",
            "[2, 2, 2, 2, 0]\n",
            "[3, 1, 1, 3, 0]\n",
            "[2, 4, 2, 4, 0]\n",
            "[3, 3, 1, 1, 0]\n",
            "[3, 3, 1, 1, 0]\n",
            "[2, 1, 1, 3, 0]\n",
            "[3, 2, 2, 1, 0]\n",
            "[3, 1, 2, 2, 0]\n",
            "[1, 3, 2, 3, 0]\n",
            "[4, 1, 3, 4, 0]\n",
            "[2, 2, 3, 3, 0]\n",
            "[1, 4, 3, 4, 0]\n",
            "[2, 3, 3, 2, 0]\n",
            "[3, 1, 2, 3, 0]\n",
            "[3, 3, 4, 3, 0]\n",
            "[4, 3, 2, 4, 0]\n",
            "[1, 4, 3, 4, 0]\n",
            "[3, 4, 1, 3, 0]\n",
            "[4, 4, 4, 4, 0]\n",
            "[4, 2, 2, 4, 0]\n",
            "[3, 4, 1, 3, 0]\n",
            "[1, 4, 1, 1, 0]\n",
            "[4, 3, 4, 4, 0]\n",
            "[4, 2, 4, 1, 0]\n",
            "[1, 3, 2, 1, 0]\n",
            "[4, 2, 1, 3, 0]\n",
            "[1, 1, 2, 1, 0]\n",
            "[2, 2, 2, 2, 0]\n",
            "[1, 4, 4, 3, 0]\n",
            "[1, 3, 4, 2, 0]\n",
            "[3, 3, 3, 3, 0]\n",
            "[1, 1, 4, 2, 0]\n",
            "[3, 4, 4, 3, 0]\n",
            "[4, 1, 2, 3, 0]\n",
            "[4, 4, 3, 1, 0]\n",
            "[4, 3, 2, 1, 0]\n",
            "[2, 2, 2, 2, 0]\n"
          ]
        }
      ]
    },
    {
      "cell_type": "code",
      "source": [
        "population = mutation(population,m_r,n)"
      ],
      "metadata": {
        "id": "UhwjpqMUMIvO"
      },
      "execution_count": null,
      "outputs": []
    },
    {
      "cell_type": "code",
      "source": [
        "for i in range(200,400):\n",
        "  print(population[i])"
      ],
      "metadata": {
        "id": "ptr_YRMkj0X9",
        "colab": {
          "base_uri": "https://localhost:8080/"
        },
        "outputId": "da79230a-f5ee-458b-f71f-4c450b5a4a28"
      },
      "execution_count": null,
      "outputs": [
        {
          "output_type": "stream",
          "name": "stdout",
          "text": [
            "[4, 4, 1, 4, 0]\n",
            "[1, 3, 2, 1, 0]\n",
            "[3, 3, 3, 1, 0]\n",
            "[3, 2, 1, 3, 0]\n",
            "[3, 2, 4, 3, 0]\n",
            "[1, 1, 3, 2, 0]\n",
            "[1, 2, 2, 2, 0]\n",
            "[4, 2, 2, 3, 0]\n",
            "[2, 1, 4, 4, 0]\n",
            "[4, 1, 2, 3, 0]\n",
            "[2, 1, 4, 3, 0]\n",
            "[4, 4, 1, 1, 0]\n",
            "[3, 2, 3, 1, 0]\n",
            "[3, 2, 3, 4, 0]\n",
            "[3, 3, 1, 2, 0]\n",
            "[1, 3, 4, 1, 0]\n",
            "[1, 3, 3, 4, 0]\n",
            "[2, 1, 4, 1, 0]\n",
            "[1, 1, 1, 2, 0]\n",
            "[1, 2, 2, 2, 0]\n",
            "[2, 3, 2, 4, 0]\n",
            "[4, 2, 2, 1, 0]\n",
            "[1, 4, 1, 4, 0]\n",
            "[3, 1, 4, 1, 0]\n",
            "[1, 3, 2, 2, 0]\n",
            "[1, 4, 1, 3, 0]\n",
            "[3, 3, 3, 2, 0]\n",
            "[4, 1, 1, 1, 0]\n",
            "[3, 2, 3, 3, 0]\n",
            "[1, 1, 1, 1, 0]\n",
            "[3, 4, 2, 3, 0]\n",
            "[2, 2, 3, 3, 0]\n",
            "[4, 3, 1, 1, 0]\n",
            "[3, 3, 4, 3, 0]\n",
            "[1, 1, 4, 2, 0]\n",
            "[1, 1, 1, 1, 0]\n",
            "[2, 1, 3, 3, 0]\n",
            "[3, 1, 4, 2, 0]\n",
            "[2, 3, 1, 2, 0]\n",
            "[3, 1, 3, 4, 0]\n",
            "[4, 2, 4, 1, 0]\n",
            "[3, 1, 1, 2, 0]\n",
            "[2, 3, 1, 3, 0]\n",
            "[4, 3, 2, 2, 0]\n",
            "[2, 2, 1, 2, 0]\n",
            "[3, 3, 2, 2, 0]\n",
            "[2, 3, 3, 2, 0]\n",
            "[2, 4, 2, 1, 0]\n",
            "[1, 2, 4, 1, 0]\n",
            "[2, 3, 2, 4, 0]\n",
            "[3, 1, 1, 2, 0]\n",
            "[2, 4, 4, 2, 0]\n",
            "[2, 1, 3, 4, 0]\n",
            "[2, 3, 1, 1, 0]\n",
            "[1, 2, 3, 4, 0]\n",
            "[2, 3, 4, 3, 0]\n",
            "[2, 3, 4, 4, 0]\n",
            "[3, 3, 4, 4, 0]\n",
            "[4, 4, 3, 3, 0]\n",
            "[1, 1, 4, 3, 0]\n",
            "[1, 3, 2, 3, 0]\n",
            "[1, 1, 1, 2, 0]\n",
            "[3, 4, 1, 4, 0]\n",
            "[2, 3, 3, 1, 0]\n",
            "[3, 2, 3, 2, 0]\n",
            "[3, 3, 1, 1, 0]\n",
            "[1, 1, 4, 2, 0]\n",
            "[2, 2, 3, 1, 0]\n",
            "[4, 1, 4, 1, 0]\n",
            "[1, 3, 4, 4, 0]\n",
            "[1, 3, 2, 2, 0]\n",
            "[2, 4, 3, 2, 0]\n",
            "[1, 1, 4, 3, 0]\n",
            "[3, 4, 3, 1, 0]\n",
            "[1, 3, 2, 3, 0]\n",
            "[3, 1, 3, 4, 0]\n",
            "[1, 4, 3, 4, 0]\n",
            "[3, 1, 4, 4, 0]\n",
            "[4, 1, 1, 2, 0]\n",
            "[4, 4, 2, 3, 0]\n",
            "[3, 4, 3, 3, 0]\n",
            "[3, 1, 2, 4, 0]\n",
            "[1, 4, 4, 2, 0]\n",
            "[1, 4, 2, 1, 0]\n",
            "[2, 4, 3, 2, 0]\n",
            "[4, 3, 1, 2, 0]\n",
            "[4, 1, 1, 1, 0]\n",
            "[3, 1, 1, 1, 0]\n",
            "[2, 4, 4, 3, 0]\n",
            "[4, 1, 3, 1, 0]\n",
            "[2, 2, 2, 1, 0]\n",
            "[4, 3, 1, 4, 0]\n",
            "[4, 4, 3, 2, 0]\n",
            "[2, 3, 2, 2, 0]\n",
            "[1, 4, 4, 4, 0]\n",
            "[3, 3, 2, 1, 0]\n",
            "[2, 3, 4, 3, 0]\n",
            "[4, 1, 1, 1, 0]\n",
            "[4, 1, 1, 3, 0]\n",
            "[2, 3, 3, 4, 0]\n",
            "[4, 3, 1, 2, 0]\n",
            "[1, 4, 4, 4, 0]\n",
            "[4, 4, 2, 1, 0]\n",
            "[3, 2, 1, 2, 0]\n",
            "[1, 4, 1, 3, 0]\n",
            "[4, 3, 1, 4, 0]\n",
            "[3, 1, 3, 2, 0]\n",
            "[1, 1, 3, 4, 0]\n",
            "[3, 3, 3, 4, 0]\n",
            "[2, 2, 2, 3, 0]\n",
            "[1, 4, 1, 1, 0]\n",
            "[2, 4, 1, 4, 0]\n",
            "[2, 3, 2, 1, 0]\n",
            "[1, 3, 3, 1, 0]\n",
            "[2, 1, 3, 3, 0]\n",
            "[4, 2, 4, 2, 0]\n",
            "[4, 2, 2, 4, 0]\n",
            "[1, 1, 2, 4, 0]\n",
            "[2, 3, 1, 4, 0]\n",
            "[1, 2, 4, 4, 0]\n",
            "[3, 2, 2, 2, 0]\n",
            "[1, 2, 4, 1, 0]\n",
            "[1, 4, 4, 2, 0]\n",
            "[4, 1, 4, 2, 0]\n",
            "[3, 4, 3, 4, 0]\n",
            "[2, 4, 1, 4, 0]\n",
            "[3, 1, 4, 2, 0]\n",
            "[1, 4, 4, 1, 0]\n",
            "[3, 2, 3, 4, 0]\n",
            "[1, 1, 1, 4, 0]\n",
            "[4, 1, 4, 2, 0]\n",
            "[1, 3, 1, 3, 0]\n",
            "[3, 1, 2, 4, 0]\n",
            "[4, 3, 1, 2, 0]\n",
            "[2, 3, 3, 3, 0]\n",
            "[3, 3, 3, 4, 0]\n",
            "[1, 3, 4, 3, 0]\n",
            "[4, 3, 4, 3, 0]\n",
            "[3, 1, 3, 2, 0]\n",
            "[2, 3, 2, 1, 0]\n",
            "[3, 2, 2, 2, 0]\n",
            "[1, 4, 1, 1, 0]\n",
            "[1, 1, 4, 4, 0]\n",
            "[3, 2, 2, 2, 0]\n",
            "[2, 2, 3, 4, 0]\n",
            "[3, 1, 3, 2, 0]\n",
            "[2, 1, 3, 3, 0]\n",
            "[1, 3, 1, 4, 0]\n",
            "[2, 1, 4, 1, 0]\n",
            "[1, 2, 3, 1, 0]\n",
            "[2, 1, 4, 1, 0]\n",
            "[4, 3, 3, 3, 0]\n",
            "[3, 1, 4, 1, 0]\n",
            "[4, 1, 2, 2, 0]\n",
            "[1, 1, 3, 1, 0]\n",
            "[3, 1, 4, 1, 0]\n",
            "[3, 3, 1, 2, 0]\n",
            "[3, 2, 1, 4, 0]\n",
            "[3, 3, 1, 2, 0]\n",
            "[4, 2, 4, 1, 0]\n",
            "[4, 3, 3, 4, 0]\n",
            "[4, 2, 1, 2, 0]\n",
            "[3, 1, 3, 1, 0]\n",
            "[2, 2, 2, 2, 0]\n",
            "[3, 1, 1, 3, 0]\n",
            "[2, 4, 2, 4, 0]\n",
            "[3, 3, 1, 1, 0]\n",
            "[3, 3, 1, 1, 0]\n",
            "[2, 1, 1, 3, 0]\n",
            "[3, 2, 2, 1, 0]\n",
            "[3, 1, 2, 2, 0]\n",
            "[1, 3, 2, 3, 0]\n",
            "[4, 1, 3, 4, 0]\n",
            "[2, 2, 3, 3, 0]\n",
            "[1, 4, 3, 4, 0]\n",
            "[2, 3, 3, 2, 0]\n",
            "[3, 1, 2, 3, 0]\n",
            "[3, 3, 4, 3, 0]\n",
            "[4, 3, 2, 4, 0]\n",
            "[1, 4, 3, 4, 0]\n",
            "[3, 4, 1, 3, 0]\n",
            "[4, 4, 4, 4, 0]\n",
            "[4, 2, 2, 4, 0]\n",
            "[3, 4, 1, 3, 0]\n",
            "[1, 4, 1, 1, 0]\n",
            "[4, 3, 4, 4, 0]\n",
            "[4, 2, 4, 1, 0]\n",
            "[1, 3, 2, 1, 0]\n",
            "[4, 2, 1, 3, 0]\n",
            "[1, 1, 2, 1, 0]\n",
            "[2, 2, 2, 2, 0]\n",
            "[1, 4, 4, 3, 0]\n",
            "[1, 3, 4, 2, 0]\n",
            "[3, 3, 3, 3, 0]\n",
            "[1, 1, 4, 2, 0]\n",
            "[3, 4, 4, 3, 0]\n",
            "[4, 1, 2, 3, 0]\n",
            "[4, 4, 3, 1, 0]\n",
            "[4, 3, 2, 1, 0]\n",
            "[2, 2, 2, 2, 0]\n"
          ]
        }
      ]
    },
    {
      "cell_type": "code",
      "source": [
        "def fitness(population_list, n):\n",
        "  conflict = 0\n",
        "  for i in range(0,len(population_list)):\n",
        "      conflict = 0\n",
        "      j = 0\n",
        "      while j<n:\n",
        "          l = j+1\n",
        "          while l<n:\n",
        "               if population_list[i][j] == population_list[i][l]:\n",
        "                  conflict+=1\n",
        "               if abs(j-l) == abs(population_list[i][j] - population_list[i][l]):\n",
        "                  conflict+=1\n",
        "               l+=1\n",
        "          j+=1\n",
        "      population_list[i][n] = conflict\n",
        "  population_list.sort(key = lambda x: x[n])\n",
        "  return population_list"
      ],
      "metadata": {
        "id": "znDzWbh5-EQF"
      },
      "execution_count": null,
      "outputs": []
    },
    {
      "cell_type": "code",
      "source": [
        "population = init_population(p_s,n)\n",
        "population = cross_over(population,n)\n",
        "population = mutation(population,m_r,n)\n",
        "population= fitness(population,n)\n",
        "population"
      ],
      "metadata": {
        "id": "bWXhXXJcGi7O"
      },
      "execution_count": null,
      "outputs": []
    }
  ]
}